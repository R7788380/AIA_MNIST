{
 "cells": [
  {
   "cell_type": "markdown",
   "metadata": {},
   "source": [
    "# MNIST 手寫數字資料集辨識 by 多層感知機(MLP)\n",
    "\n",
    "* `MNIST`資料集是由10個數字label所構成，每張圖片是由$28 \\times 28$的pixels所構成，而每張圖片都是黑白的，所以其顏色通道$channel$是$1$，若是彩色$RGB$，其顏色通道為$3$\n",
    "\n",
    "接下來將使用`tensorflow`建構最基礎的多層感知機(Multiple Layer Perceptron)來辨識手寫辨識資料集。"
   ]
  },
  {
   "cell_type": "code",
   "execution_count": 11,
   "metadata": {},
   "outputs": [],
   "source": [
    "import numpy as np\n",
    "import tensorflow as tf"
   ]
  },
  {
   "cell_type": "markdown",
   "metadata": {},
   "source": [
    "### [資料集介紹](http://yann.lecun.com/exdb/mnist/)\n",
    "\n",
    "首先要將`MNIST`資料集下載下來，其中`keras`已經能夠使用`datasets`類來呼叫函數下載`MNIST`資料集，所以我們不需要直接點上方網址下載。"
   ]
  },
  {
   "cell_type": "code",
   "execution_count": 3,
   "metadata": {},
   "outputs": [],
   "source": [
    "from keras.datasets import mnist\n",
    "(X_train, y_train), (X_test, y_test) = mnist.load_data()"
   ]
  },
  {
   "cell_type": "markdown",
   "metadata": {},
   "source": [
    "### CH1\n",
    "\n",
    "`training set`共有$60000$張圖片，每張圖片由一個$28\\times28$的矩陣所組成\n",
    "\n",
    "`testing set`有$10000$張圖片，每張圖片一樣由$28\\times28$的矩陣所組成\n",
    "\n",
    "兩者的`label`種類為`0 1 2 3 4 5 6 7 8 9`，共10種"
   ]
  },
  {
   "cell_type": "code",
   "execution_count": 15,
   "metadata": {},
   "outputs": [
    {
     "name": "stdout",
     "output_type": "stream",
     "text": [
      "---training data---\n",
      "X_train.shape:  (60000, 28, 28)\n",
      "y_train.shape:  (60000,)\n",
      "training label:  [0 1 2 3 4 5 6 7 8 9]\n",
      "---testing data---\n",
      "X_test.shape:  (10000, 28, 28)\n",
      "y_test.shape:  (10000,)\n",
      "testing label:  [0 1 2 3 4 5 6 7 8 9]\n"
     ]
    }
   ],
   "source": [
    "print('---training data---')\n",
    "print('X_train.shape: ',X_train.shape)\n",
    "print('y_train.shape: ',y_train.shape)\n",
    "print('training label: ',np.unique(y_train))\n",
    "print('---testing data---')\n",
    "print('X_test.shape: ',X_test.shape)\n",
    "print('y_test.shape: ',y_test.shape)\n",
    "print('testing label: ',np.unique(y_test))"
   ]
  },
  {
   "cell_type": "markdown",
   "metadata": {},
   "source": [
    "接著我們試著畫出一張數字圖片來觀察\n",
    "\n",
    "其中`plt.imshow`的`cmap`參數表示我們要輸出的`colormap`是什麼，所有種類的`colormap`可以參考此[網址](https://matplotlib.org/tutorials/colors/colormaps.html)\n",
    "\n",
    "因為是黑白圖片，所以我們`cmap`使用`Greys`"
   ]
  },
  {
   "cell_type": "code",
   "execution_count": 29,
   "metadata": {},
   "outputs": [
    {
     "data": {
      "image/png": "[encoded data removed]",
      "text/plain": [
       "<matplotlib.figure.Figure at 0x7f895773f630>"
      ]
     },
     "metadata": {},
     "output_type": "display_data"
    }
   ],
   "source": [
    "import matplotlib.pyplot as plt\n",
    "plt.gca()\n",
    "plt.imshow(X_train[0], cmap='Greys')\n",
    "plt.title(y_train[0],size = 30)\n",
    "plt.show()"
   ]
  },
  {
   "cell_type": "markdown",
   "metadata": {},
   "source": [
    "## Data preprocessing\n",
    "\n",
    "對於`MLP`來多，輸入必須為一個向量，也就是一個$1$維$vector$，而我們的圖片是$matrix$是$2$維的，必須把每張圖片使用`reshape`將$matrix$轉成$vector$"
   ]
  },
  {
   "cell_type": "code",
   "execution_count": 30,
   "metadata": {},
   "outputs": [],
   "source": [
    "X_train = X_train.reshape(X_train.shape[0], 28 * 28).astype('float32')\n",
    "X_test = X_test.reshape(X_test.shape[0], 28 * 28).astype('float32')\n",
    "\n"
   ]
  },
  {
   "cell_type": "code",
   "execution_count": 32,
   "metadata": {},
   "outputs": [
    {
     "data": {
      "text/plain": [
       "(60000, 784)"
      ]
     },
     "execution_count": 32,
     "metadata": {},
     "output_type": "execute_result"
    }
   ],
   "source": [
    "\n",
    "\n",
    "X_train.shape"
   ]
  },
  {
   "cell_type": "code",
   "execution_count": null,
   "metadata": {},
   "outputs": [],
   "source": []
  }
 ],
 "metadata": {
  "kernelspec": {
   "display_name": "Python 3",
   "language": "python",
   "name": "python3"
  },
  "language_info": {
   "codemirror_mode": {
    "name": "ipython",
    "version": 3
   },
   "file_extension": ".py",
   "mimetype": "text/x-python",
   "name": "python",
   "nbconvert_exporter": "python",
   "pygments_lexer": "ipython3",
   "version": "3.5.2"
  }
 },
 "nbformat": 4,
 "nbformat_minor": 2
}
